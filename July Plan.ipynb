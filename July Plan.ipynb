{
 "cells": [
  {
   "cell_type": "markdown",
   "metadata": {},
   "source": [
    "# 7/15  \n",
    "TPO听写5分钟   \n",
    "\n",
    "schedule java代码一个   \n",
    "\n",
    "learn python the hard way+ Nan Jing University Data Analysis 整理   \n",
    "\n",
    "一个python爬虫   \n",
    "\n",
    "量化分析课2节   \n",
    "\n",
    "python算法导论1   \n",
    "\n",
    "MySQL 1-4-5章   \n",
    "\n",
    "俯卧撑25+滚轮10   \n"
   ]
  },
  {
   "cell_type": "code",
   "execution_count": null,
   "metadata": {
    "collapsed": true
   },
   "outputs": [],
   "source": []
  }
 ],
 "metadata": {
  "kernelspec": {
   "display_name": "Python 2",
   "language": "python",
   "name": "python2"
  },
  "language_info": {
   "codemirror_mode": {
    "name": "ipython",
    "version": 2
   },
   "file_extension": ".py",
   "mimetype": "text/x-python",
   "name": "python",
   "nbconvert_exporter": "python",
   "pygments_lexer": "ipython2",
   "version": "2.7.11"
  }
 },
 "nbformat": 4,
 "nbformat_minor": 0
}
